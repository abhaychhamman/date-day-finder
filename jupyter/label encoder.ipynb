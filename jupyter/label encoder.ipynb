{
 "cells": [
  {
   "cell_type": "code",
   "execution_count": 35,
   "id": "0f6de161",
   "metadata": {},
   "outputs": [
    {
     "data": {
      "text/html": [
       "<div>\n",
       "<style scoped>\n",
       "    .dataframe tbody tr th:only-of-type {\n",
       "        vertical-align: middle;\n",
       "    }\n",
       "\n",
       "    .dataframe tbody tr th {\n",
       "        vertical-align: top;\n",
       "    }\n",
       "\n",
       "    .dataframe thead th {\n",
       "        text-align: right;\n",
       "    }\n",
       "</style>\n",
       "<table border=\"1\" class=\"dataframe\">\n",
       "  <thead>\n",
       "    <tr style=\"text-align: right;\">\n",
       "      <th></th>\n",
       "      <th>state</th>\n",
       "      <th>confirmed</th>\n",
       "      <th>death</th>\n",
       "      <th>recovered</th>\n",
       "      <th>state_N</th>\n",
       "    </tr>\n",
       "  </thead>\n",
       "  <tbody>\n",
       "    <tr>\n",
       "      <th>0</th>\n",
       "      <td>utter pradesh</td>\n",
       "      <td>43534</td>\n",
       "      <td>3334</td>\n",
       "      <td>3533</td>\n",
       "      <td>4</td>\n",
       "    </tr>\n",
       "    <tr>\n",
       "      <th>1</th>\n",
       "      <td>uttrakhand</td>\n",
       "      <td>2234</td>\n",
       "      <td>204</td>\n",
       "      <td>2543</td>\n",
       "      <td>5</td>\n",
       "    </tr>\n",
       "    <tr>\n",
       "      <th>2</th>\n",
       "      <td>himachal</td>\n",
       "      <td>4345</td>\n",
       "      <td>224</td>\n",
       "      <td>3383</td>\n",
       "      <td>6</td>\n",
       "    </tr>\n",
       "    <tr>\n",
       "      <th>3</th>\n",
       "      <td>hariyana</td>\n",
       "      <td>9534</td>\n",
       "      <td>330</td>\n",
       "      <td>300</td>\n",
       "      <td>2</td>\n",
       "    </tr>\n",
       "    <tr>\n",
       "      <th>4</th>\n",
       "      <td>rajasthan</td>\n",
       "      <td>2334</td>\n",
       "      <td>324</td>\n",
       "      <td>1000</td>\n",
       "      <td>1</td>\n",
       "    </tr>\n",
       "  </tbody>\n",
       "</table>\n",
       "</div>"
      ],
      "text/plain": [
       "           state  confirmed  death  recovered  state_N\n",
       "0  utter pradesh      43534   3334       3533        4\n",
       "1     uttrakhand       2234    204       2543        5\n",
       "2       himachal       4345    224       3383        6\n",
       "3       hariyana       9534    330        300        2\n",
       "4      rajasthan       2334    324       1000        1"
      ]
     },
     "execution_count": 35,
     "metadata": {},
     "output_type": "execute_result"
    }
   ],
   "source": [
    "from sklearn import preprocessing\n",
    "\n",
    "import pandas as pd\n",
    "\n",
    "\n",
    "data=pd.DataFrame( [\n",
    "    [\"utter pradesh\",43534,3334,3533,4] ,\n",
    "    [\"uttrakhand\",2234,204,2543,5] ,\n",
    "    [\"himachal\",4345,224,3383,6] ,\n",
    "    [\"hariyana\",9534,330,300,2] ,\n",
    "    [\"rajasthan\",2334,324,1000,1] ,\n",
    "\n",
    "    ],\n",
    "    columns=[\"state\",\"confirmed\",\"death\",\"recovered\",\"state_N\"],\n",
    "              \n",
    "                 )\n",
    " \n",
    "data"
   ]
  },
  {
   "cell_type": "code",
   "execution_count": 14,
   "id": "de931013",
   "metadata": {},
   "outputs": [
    {
     "data": {
      "text/plain": [
       "array([[5.1, 3.5, 1.4, 0.2],\n",
       "       [4.9, 3. , 1.4, 0.2],\n",
       "       [4.7, 3.2, 1.3, 0.2],\n",
       "       [4.6, 3.1, 1.5, 0.2],\n",
       "       [5. , 3.6, 1.4, 0.2]])"
      ]
     },
     "execution_count": 14,
     "metadata": {},
     "output_type": "execute_result"
    }
   ],
   "source": [
    "iris['data'][:5]\n"
   ]
  },
  {
   "cell_type": "code",
   "execution_count": 29,
   "id": "ba734f28",
   "metadata": {},
   "outputs": [
    {
     "data": {
      "text/html": [
       "<div>\n",
       "<style scoped>\n",
       "    .dataframe tbody tr th:only-of-type {\n",
       "        vertical-align: middle;\n",
       "    }\n",
       "\n",
       "    .dataframe tbody tr th {\n",
       "        vertical-align: top;\n",
       "    }\n",
       "\n",
       "    .dataframe thead th {\n",
       "        text-align: right;\n",
       "    }\n",
       "</style>\n",
       "<table border=\"1\" class=\"dataframe\">\n",
       "  <thead>\n",
       "    <tr style=\"text-align: right;\">\n",
       "      <th></th>\n",
       "      <th>state</th>\n",
       "      <th>confirmed</th>\n",
       "      <th>death</th>\n",
       "      <th>recovered</th>\n",
       "      <th>state_N</th>\n",
       "    </tr>\n",
       "  </thead>\n",
       "  <tbody>\n",
       "    <tr>\n",
       "      <th>0</th>\n",
       "      <td>utter pradesh</td>\n",
       "      <td>43534</td>\n",
       "      <td>3334</td>\n",
       "      <td>3533</td>\n",
       "      <td>3</td>\n",
       "    </tr>\n",
       "    <tr>\n",
       "      <th>1</th>\n",
       "      <td>uttrakhand</td>\n",
       "      <td>2234</td>\n",
       "      <td>204</td>\n",
       "      <td>2543</td>\n",
       "      <td>4</td>\n",
       "    </tr>\n",
       "    <tr>\n",
       "      <th>2</th>\n",
       "      <td>himachal</td>\n",
       "      <td>4345</td>\n",
       "      <td>224</td>\n",
       "      <td>3383</td>\n",
       "      <td>1</td>\n",
       "    </tr>\n",
       "    <tr>\n",
       "      <th>3</th>\n",
       "      <td>hariyana</td>\n",
       "      <td>9534</td>\n",
       "      <td>330</td>\n",
       "      <td>300</td>\n",
       "      <td>0</td>\n",
       "    </tr>\n",
       "    <tr>\n",
       "      <th>4</th>\n",
       "      <td>rajasthan</td>\n",
       "      <td>2334</td>\n",
       "      <td>324</td>\n",
       "      <td>1000</td>\n",
       "      <td>2</td>\n",
       "    </tr>\n",
       "  </tbody>\n",
       "</table>\n",
       "</div>"
      ],
      "text/plain": [
       "           state  confirmed  death  recovered  state_N\n",
       "0  utter pradesh      43534   3334       3533        3\n",
       "1     uttrakhand       2234    204       2543        4\n",
       "2       himachal       4345    224       3383        1\n",
       "3       hariyana       9534    330        300        0\n",
       "4      rajasthan       2334    324       1000        2"
      ]
     },
     "execution_count": 29,
     "metadata": {},
     "output_type": "execute_result"
    }
   ],
   "source": [
    "from sklearn.preprocessing import LabelEncoder\n",
    "labelencoder=LabelEncoder()\n",
    "data['state_N']=labelencoder.fit_transform(data['state'])\n",
    "data\n"
   ]
  },
  {
   "cell_type": "code",
   "execution_count": 32,
   "id": "051e7287",
   "metadata": {},
   "outputs": [],
   "source": [
    "x=pd.get_dummies(data[\"state\"],prefix=\"state\",drop_first=True)"
   ]
  },
  {
   "cell_type": "code",
   "execution_count": 33,
   "id": "f5f12ab9",
   "metadata": {},
   "outputs": [
    {
     "data": {
      "text/html": [
       "<div>\n",
       "<style scoped>\n",
       "    .dataframe tbody tr th:only-of-type {\n",
       "        vertical-align: middle;\n",
       "    }\n",
       "\n",
       "    .dataframe tbody tr th {\n",
       "        vertical-align: top;\n",
       "    }\n",
       "\n",
       "    .dataframe thead th {\n",
       "        text-align: right;\n",
       "    }\n",
       "</style>\n",
       "<table border=\"1\" class=\"dataframe\">\n",
       "  <thead>\n",
       "    <tr style=\"text-align: right;\">\n",
       "      <th></th>\n",
       "      <th>state_himachal</th>\n",
       "      <th>state_rajasthan</th>\n",
       "      <th>state_utter pradesh</th>\n",
       "      <th>state_uttrakhand</th>\n",
       "    </tr>\n",
       "  </thead>\n",
       "  <tbody>\n",
       "    <tr>\n",
       "      <th>0</th>\n",
       "      <td>0</td>\n",
       "      <td>0</td>\n",
       "      <td>1</td>\n",
       "      <td>0</td>\n",
       "    </tr>\n",
       "    <tr>\n",
       "      <th>1</th>\n",
       "      <td>0</td>\n",
       "      <td>0</td>\n",
       "      <td>0</td>\n",
       "      <td>1</td>\n",
       "    </tr>\n",
       "    <tr>\n",
       "      <th>2</th>\n",
       "      <td>1</td>\n",
       "      <td>0</td>\n",
       "      <td>0</td>\n",
       "      <td>0</td>\n",
       "    </tr>\n",
       "    <tr>\n",
       "      <th>3</th>\n",
       "      <td>0</td>\n",
       "      <td>0</td>\n",
       "      <td>0</td>\n",
       "      <td>0</td>\n",
       "    </tr>\n",
       "    <tr>\n",
       "      <th>4</th>\n",
       "      <td>0</td>\n",
       "      <td>1</td>\n",
       "      <td>0</td>\n",
       "      <td>0</td>\n",
       "    </tr>\n",
       "  </tbody>\n",
       "</table>\n",
       "</div>"
      ],
      "text/plain": [
       "   state_himachal  state_rajasthan  state_utter pradesh  state_uttrakhand\n",
       "0               0                0                    1                 0\n",
       "1               0                0                    0                 1\n",
       "2               1                0                    0                 0\n",
       "3               0                0                    0                 0\n",
       "4               0                1                    0                 0"
      ]
     },
     "execution_count": 33,
     "metadata": {},
     "output_type": "execute_result"
    }
   ],
   "source": [
    "x"
   ]
  },
  {
   "cell_type": "code",
   "execution_count": 40,
   "id": "946adf62",
   "metadata": {},
   "outputs": [],
   "source": [
    "import numpy as np"
   ]
  },
  {
   "cell_type": "code",
   "execution_count": 53,
   "id": "e0dcc93f",
   "metadata": {},
   "outputs": [
    {
     "data": {
      "text/plain": [
       "array([[ 1,  2,  0],\n",
       "       [ 2, -2,  3],\n",
       "       [ 1,  0,  2]])"
      ]
     },
     "execution_count": 53,
     "metadata": {},
     "output_type": "execute_result"
    }
   ],
   "source": [
    "x=np.array([[1,2,0],[2,-2,3],[1,0,2]])\n",
    "x"
   ]
  },
  {
   "cell_type": "code",
   "execution_count": 56,
   "id": "2cf92834",
   "metadata": {},
   "outputs": [
    {
     "data": {
      "text/plain": [
       "array([1.33333333, 0.        , 1.66666667])"
      ]
     },
     "execution_count": 56,
     "metadata": {},
     "output_type": "execute_result"
    }
   ],
   "source": [
    "m=x.mean(axis=0)\n",
    "m"
   ]
  },
  {
   "cell_type": "code",
   "execution_count": 57,
   "id": "09268727",
   "metadata": {},
   "outputs": [
    {
     "data": {
      "text/plain": [
       "array([0.47140452, 1.63299316, 1.24721913])"
      ]
     },
     "execution_count": 57,
     "metadata": {},
     "output_type": "execute_result"
    }
   ],
   "source": [
    "s=x.std(axis=0)\n",
    "s"
   ]
  },
  {
   "cell_type": "code",
   "execution_count": 62,
   "id": "baafcc08",
   "metadata": {},
   "outputs": [],
   "source": [
    "scaled_x=preprocessing.scale(x)\n",
    "mscaled_x=scaled_x.mean(axis=0)\n",
    "sscaled_x=scaled_x.std(axis=0)"
   ]
  },
  {
   "cell_type": "code",
   "execution_count": 64,
   "id": "927cf067",
   "metadata": {},
   "outputs": [
    {
     "name": "stdout",
     "output_type": "stream",
     "text": [
      "[ 1.48029737e-16  0.00000000e+00 -5.55111512e-17]\n",
      "[1. 1. 1.]\n"
     ]
    }
   ],
   "source": [
    "print(mscaled_x)\n",
    "print(sscaled_x)"
   ]
  },
  {
   "cell_type": "markdown",
   "id": "ffa9a94e",
   "metadata": {},
   "source": [
    "# scaling"
   ]
  },
  {
   "cell_type": "code",
   "execution_count": 68,
   "id": "44d8e2c0",
   "metadata": {},
   "outputs": [
    {
     "data": {
      "text/plain": [
       "array([[0.        , 1.        , 0.        ],\n",
       "       [1.        , 0.        , 1.        ],\n",
       "       [0.        , 0.5       , 0.66666667]])"
      ]
     },
     "execution_count": 68,
     "metadata": {},
     "output_type": "execute_result"
    }
   ],
   "source": [
    "data_scaler=preprocessing.MinMaxScaler(feature_range=(0,1))\n",
    "data_scaled=data_scaler.fit_transform(x)\n",
    "data_scaled"
   ]
  },
  {
   "cell_type": "markdown",
   "id": "c50f9469",
   "metadata": {},
   "source": [
    "# normalization"
   ]
  },
  {
   "cell_type": "code",
   "execution_count": 70,
   "id": "125f67fc",
   "metadata": {},
   "outputs": [
    {
     "data": {
      "text/plain": [
       "array([[ 0.33333333,  0.66666667,  0.        ],\n",
       "       [ 0.28571429, -0.28571429,  0.42857143],\n",
       "       [ 0.33333333,  0.        ,  0.66666667]])"
      ]
     },
     "execution_count": 70,
     "metadata": {},
     "output_type": "execute_result"
    }
   ],
   "source": [
    "data_n=preprocessing.normalize(x,norm='l1')\n",
    "data_n"
   ]
  },
  {
   "cell_type": "code",
   "execution_count": null,
   "id": "949fb6ad",
   "metadata": {},
   "outputs": [],
   "source": []
  }
 ],
 "metadata": {
  "kernelspec": {
   "display_name": "Python 3",
   "language": "python",
   "name": "python3"
  },
  "language_info": {
   "codemirror_mode": {
    "name": "ipython",
    "version": 3
   },
   "file_extension": ".py",
   "mimetype": "text/x-python",
   "name": "python",
   "nbconvert_exporter": "python",
   "pygments_lexer": "ipython3",
   "version": "3.8.8"
  }
 },
 "nbformat": 4,
 "nbformat_minor": 5
}
